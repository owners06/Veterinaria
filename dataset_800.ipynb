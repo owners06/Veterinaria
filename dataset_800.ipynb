{
  "nbformat": 4,
  "nbformat_minor": 0,
  "metadata": {
    "colab": {
      "provenance": [],
      "authorship_tag": "ABX9TyMesP9tZAjY/uR+GZ5HA6vw",
      "include_colab_link": true
    },
    "kernelspec": {
      "name": "python3",
      "display_name": "Python 3"
    },
    "language_info": {
      "name": "python"
    }
  },
  "cells": [
    {
      "cell_type": "markdown",
      "metadata": {
        "id": "view-in-github",
        "colab_type": "text"
      },
      "source": [
        "<a href=\"https://colab.research.google.com/github/owners06/Veterinaria/blob/master/dataset_800.ipynb\" target=\"_parent\"><img src=\"https://colab.research.google.com/assets/colab-badge.svg\" alt=\"Open In Colab\"/></a>"
      ]
    },
    {
      "cell_type": "code",
      "execution_count": null,
      "metadata": {
        "colab": {
          "base_uri": "https://localhost:8080/"
        },
        "id": "AjB5l9Ry4WlM",
        "outputId": "9577f045-c1be-4a53-d6e2-d5a556d401cb"
      },
      "outputs": [
        {
          "output_type": "stream",
          "name": "stdout",
          "text": [
            "\n",
            "Valores nulos por columna:\n",
            "ID                        0\n",
            "Nombre                   80\n",
            "Edad                     60\n",
            "Ciudad                   50\n",
            "Categoría de Producto     0\n",
            "Método de Pago            0\n",
            "Estado del Pedido        40\n",
            "Valor de la Compra        0\n",
            "dtype: int64\n",
            "\n",
            "Filas duplicadas: 0\n",
            "\n",
            "Dataset limpio:\n",
            "   ID       Nombre  Edad        Ciudad Categoría de Producto  \\\n",
            "0   1        María    29      Medellín                 Salud   \n",
            "1   2  Desconocido    24  Barranquilla               Belleza   \n",
            "2   3       Javier    46       Pereira                 Hogar   \n",
            "3   4  Desconocido    28          Cali              Juguetes   \n",
            "4   5         Luis    45       Pereira                  Ropa   \n",
            "\n",
            "       Método de Pago Estado del Pedido  Valor de la Compra  \n",
            "0  Tarjeta de crédito         Cancelado       934196.613132  \n",
            "1              PayPal        En proceso       405212.616173  \n",
            "2            Efectivo         Cancelado       471445.931104  \n",
            "3              PayPal         Pendiente       707107.219387  \n",
            "4            Efectivo        En proceso       922580.968411  \n"
          ]
        }
      ],
      "source": [
        "import numpy as np\n",
        "import pandas as pd\n",
        "\n",
        "# =======================\n",
        "# 1. Generar Dataset Simulado (1200 registros)\n",
        "# =======================\n",
        "np.random.seed(42)\n",
        "\n",
        "n_registros = 1200\n",
        "\n",
        "# Listas de valores posibles para el contexto de comercio electrónico\n",
        "nombres = [\"Ana\", \"Luis\", \"Carlos\", \"María\", \"Pedro\", \"Sofía\", \"Javier\", \"Paula\", \"Juan\", \"Desconocido\"]\n",
        "ciudades = [\"Bogotá\", \"Medellín\", \"Cali\", \"Barranquilla\", \"Cartagena\", \"Bucaramanga\", \"Pereira\", \"Manizales\"]\n",
        "categorias = [\"Electrónica\", \"Ropa\", \"Hogar\", \"Deportes\", \"Juguetes\", \"Libros\", \"Salud\", \"Belleza\"]\n",
        "metodos_pago = [\"Tarjeta de crédito\", \"Tarjeta de débito\", \"PayPal\", \"Efectivo\", \"Criptomoneda\"]\n",
        "estado_pedido = [\"Entregado\", \"En proceso\", \"Cancelado\", \"Pendiente\"]\n",
        "\n",
        "# Generar datos aleatorios\n",
        "datos = {\n",
        "    \"ID\": np.arange(1, n_registros + 1),\n",
        "    \"Nombre\": np.random.choice(nombres, n_registros, p=[0.12, 0.12, 0.1, 0.1, 0.1, 0.1, 0.1, 0.1, 0.1, 0.06]),\n",
        "    \"Edad\": np.random.randint(18, 75, n_registros),\n",
        "    \"Ciudad\": np.random.choice(ciudades, n_registros),\n",
        "    \"Categoría de Producto\": np.random.choice(categorias, n_registros),\n",
        "    \"Método de Pago\": np.random.choice(metodos_pago, n_registros),\n",
        "    \"Estado del Pedido\": np.random.choice(estado_pedido, n_registros),\n",
        "    \"Valor de la Compra\": np.random.uniform(5000, 1000000, n_registros)\n",
        "}\n",
        "\n",
        "# Crear DataFrame\n",
        "df = pd.DataFrame(datos)\n",
        "\n",
        "# Introducir valores nulos aleatorios en algunas columnas\n",
        "df.loc[np.random.choice(df.index, size=80, replace=False), \"Nombre\"] = np.nan\n",
        "df.loc[np.random.choice(df.index, size=60, replace=False), \"Edad\"] = np.nan\n",
        "df.loc[np.random.choice(df.index, size=50, replace=False), \"Ciudad\"] = np.nan\n",
        "df.loc[np.random.choice(df.index, size=40, replace=False), \"Estado del Pedido\"] = np.nan\n",
        "\n",
        "# Guardar dataset en CSV\n",
        "df.to_csv(\"dataset_comercio_1200.csv\", index=False)\n",
        "\n",
        "# =======================\n",
        "# 2. Cargar el Dataset\n",
        "# =======================\n",
        "df = pd.read_csv(\"dataset_comercio_1200.csv\")\n",
        "\n",
        "# =======================\n",
        "# 3. Limpieza de Datos\n",
        "# =======================\n",
        "\n",
        "# a) Identificar valores nulos y duplicados\n",
        "print(\"\\nValores nulos por columna:\")\n",
        "print(df.isnull().sum())\n",
        "print(\"\\nFilas duplicadas:\", df.duplicated().sum())\n",
        "\n",
        "# b) Eliminar filas con más del 50% de valores nulos\n",
        "df = df.dropna(thresh=df.shape[1] * 0.5)\n",
        "\n",
        "# c) Imputar valores faltantes\n",
        "df[\"Nombre\"] = df[\"Nombre\"].fillna(\"Desconocido\")\n",
        "df[\"Edad\"] = df[\"Edad\"].astype(float).fillna(df[\"Edad\"].median()).astype(int)\n",
        "df[\"Ciudad\"] = df[\"Ciudad\"].fillna(df[\"Ciudad\"].dropna().mode().iloc[0])\n",
        "df[\"Estado del Pedido\"] = df[\"Estado del Pedido\"].fillna(df[\"Estado del Pedido\"].dropna().mode().iloc[0])\n",
        "\n",
        "# d) Convertir tipos de datos\n",
        "df = df.astype({\"ID\": int, \"Edad\": int, \"Valor de la Compra\": float})\n",
        "\n",
        "# e) Eliminar duplicados\n",
        "df = df.drop_duplicates()\n",
        "\n",
        "# =======================\n",
        "# 4. Guardar el Dataset Limpio\n",
        "# =======================\n",
        "print(\"\\nDataset limpio:\")\n",
        "print(df.head())\n",
        "\n",
        "df.to_csv(\"dataset_comercio_1200_limpio.csv\", index=False)\n"
      ]
    },
    {
      "cell_type": "code",
      "source": [
        "from google.colab import files\n",
        "files.download(\"dataset_comercio_1200_limpio.csv\")"
      ],
      "metadata": {
        "colab": {
          "base_uri": "https://localhost:8080/",
          "height": 17
        },
        "id": "zP63eNzW6riM",
        "outputId": "bd13cf75-662c-4b03-d7f7-ab2b50ce6eb4"
      },
      "execution_count": null,
      "outputs": [
        {
          "output_type": "display_data",
          "data": {
            "text/plain": [
              "<IPython.core.display.Javascript object>"
            ],
            "application/javascript": [
              "\n",
              "    async function download(id, filename, size) {\n",
              "      if (!google.colab.kernel.accessAllowed) {\n",
              "        return;\n",
              "      }\n",
              "      const div = document.createElement('div');\n",
              "      const label = document.createElement('label');\n",
              "      label.textContent = `Downloading \"${filename}\": `;\n",
              "      div.appendChild(label);\n",
              "      const progress = document.createElement('progress');\n",
              "      progress.max = size;\n",
              "      div.appendChild(progress);\n",
              "      document.body.appendChild(div);\n",
              "\n",
              "      const buffers = [];\n",
              "      let downloaded = 0;\n",
              "\n",
              "      const channel = await google.colab.kernel.comms.open(id);\n",
              "      // Send a message to notify the kernel that we're ready.\n",
              "      channel.send({})\n",
              "\n",
              "      for await (const message of channel.messages) {\n",
              "        // Send a message to notify the kernel that we're ready.\n",
              "        channel.send({})\n",
              "        if (message.buffers) {\n",
              "          for (const buffer of message.buffers) {\n",
              "            buffers.push(buffer);\n",
              "            downloaded += buffer.byteLength;\n",
              "            progress.value = downloaded;\n",
              "          }\n",
              "        }\n",
              "      }\n",
              "      const blob = new Blob(buffers, {type: 'application/binary'});\n",
              "      const a = document.createElement('a');\n",
              "      a.href = window.URL.createObjectURL(blob);\n",
              "      a.download = filename;\n",
              "      div.appendChild(a);\n",
              "      a.click();\n",
              "      div.remove();\n",
              "    }\n",
              "  "
            ]
          },
          "metadata": {}
        },
        {
          "output_type": "display_data",
          "data": {
            "text/plain": [
              "<IPython.core.display.Javascript object>"
            ],
            "application/javascript": [
              "download(\"download_2448627b-7951-405e-98e7-96cc3a1e38ab\", \"dataset_comercio_1200_limpio.csv\", 87955)"
            ]
          },
          "metadata": {}
        }
      ]
    }
  ]
}